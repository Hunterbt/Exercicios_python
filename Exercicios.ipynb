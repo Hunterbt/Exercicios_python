{
 "cells": [
  {
   "cell_type": "markdown",
   "id": "96729097-5803-4de9-aa37-2ac69c51c66c",
   "metadata": {},
   "source": [
    "**01 ) Calcular a Area de um Paralelograma**\n",
    "\n",
    "Gerado pseudocodigo por chatgpt:\n",
    "\n",
    "Claro! Vou te fornecer um pseudocódigo simples para calcular a área de um paralelograma. A fórmula para calcular a área de um paralelograma é:\r\n",
    "xt{Área} xt{basex xt{altura\\]\r\n",
    "\r\n",
    "Aqui está o pseudocódigo correspondente:\r\n",
    "\r\n",
    "```\r\n",
    "Início\r\n",
    "    // Passo 1: Solicitar a entrada da base e altura do paralelograma\r\n",
    "    Escreva \"Digite o valor da base do paralelograma:\"\r\n",
    "    Leia base\r\n",
    "    \r\n",
    "    Escreva \"Digite o valor da altura do paralelograma:\"\r\n",
    "    Leia altura\r\n",
    "    \r\n",
    "    // Passo 2: Calcular a área\r\n",
    "    área = base * altura\r\n",
    "    \r\n",
    "    // Passo 3: Exibir o resultado\r\n",
    "    Escreva \"A área do paralelograma é: \", área\r\n",
    "Fim\r\n",
    "```\r\n",
    "\r\n",
    "### Explicação dos Passos:\r\n",
    "\r\n",
    "1. **Entrada de Dados**: O usuário fornece os valores da base e da altura do paralelograma.\r\n",
    "2. **Cálculo**: Multiplicamos a base pela altura para encontrar a área.\r\n",
    "3. **Saída**: Exibimos o resultado para o usuário.\r\n",
    "\r\n",
    "Esse pseudocódigo é uma base simples e pode ser adaptado conforme a necessidade."
   ]
  },
  {
   "cell_type": "code",
   "execution_count": 6,
   "id": "39ac39f1-3cde-4ad1-b357-0d115a08111b",
   "metadata": {},
   "outputs": [
    {
     "name": "stdout",
     "output_type": "stream",
     "text": [
      "\u001b[1mCalculando a Area de um Paralelograma\u001b[0m\n",
      "\n",
      "\n"
     ]
    },
    {
     "name": "stdin",
     "output_type": "stream",
     "text": [
      "Insira o numero base do paralelograma=  2\n",
      "Insira o numero altura do paralelograma=  2\n"
     ]
    },
    {
     "name": "stdout",
     "output_type": "stream",
     "text": [
      "\n",
      "\n",
      "\u001b[1mA área do paralelograma é:4.0\u001b[0m\n"
     ]
    }
   ],
   "source": [
    "print('\\033[1mCalculando a Area de um Paralelograma\\033[0m')\n",
    "print('\\n')\n",
    "\n",
    "b = float(input('Insira o numero base do paralelograma= '))\n",
    "a = float(input('Insira o numero altura do paralelograma= '))\n",
    "\n",
    "#Formula para calcular a Area:\n",
    "#Area = base x altura\n",
    "\n",
    "area  = b * a\n",
    "print('\\n')\n",
    "print(f'\\033[1mA área do paralelograma é:{area}\\033[0m')\n",
    "\n"
   ]
  },
  {
   "cell_type": "markdown",
   "id": "681b32f4-8c44-4f1a-bf94-568a3f1b2419",
   "metadata": {},
   "source": [
    "**02 ) Calculadora Simple**\n",
    "\n",
    "Segue o pseudocodigo correspondente:\n",
    "\n",
    "a) Primero comprimentar no inicio : 'Bem vindo - Calculadora Simple'\n",
    "\n",
    "b) Segundo imprimir las opciones disponiveis: 'Digite o calculo que deseja realizar\n",
    "1. adição\n",
    "2. Substração\n",
    "3. Multiplicação\n",
    "4. Divisão'\n",
    "\n",
    "c) Terceiro gera uma entrada de dados para escolher a função: 'Insira a função a calcular:'\n",
    "\n",
    "d) Quarto gera uma entrada de dados para o primer numero a ser calculado \n",
    "e) Quinto gera uma entrada de dados para o segundo numero a ser calculado\n",
    "\n",
    "f) Cria na sequencia as condições para cada função \n",
    "\n",
    "g) imprime o resultado.\n",
    "\n"
   ]
  },
  {
   "cell_type": "code",
   "execution_count": 26,
   "id": "ef2d57fc-76c9-448d-974c-5c0f6c6c5e14",
   "metadata": {},
   "outputs": [
    {
     "name": "stdout",
     "output_type": "stream",
     "text": [
      "\u001b[1mBem-Vindo Cientista !\u001b[0m\n",
      "\n",
      "\n"
     ]
    },
    {
     "name": "stdin",
     "output_type": "stream",
     "text": [
      "Qual função deseja executar, segue as opçoes disponiveis:\n",
      "1. Adição [+]\n",
      "2. Substração [-]\n",
      "3. Multiplicação [x]\n",
      "4. Divisão [/] 4\n"
     ]
    },
    {
     "name": "stdout",
     "output_type": "stream",
     "text": [
      "\n",
      "\n"
     ]
    },
    {
     "name": "stdin",
     "output_type": "stream",
     "text": [
      "Função processada , por favor prossiga com a inserção do primer numero a ser calculado=  2\n",
      "Por favor prossiga com a inserção do segundo numero a ser calculado=  2\n"
     ]
    },
    {
     "name": "stdout",
     "output_type": "stream",
     "text": [
      "\n",
      "\n",
      "\u001b[1mO resultado é= 1.0\u001b[0m\n"
     ]
    }
   ],
   "source": [
    "print('\\033[1mBem-Vindo Cientista !\\033[0m')\n",
    "print('\\n')\n",
    "funcao = int(input('''Qual função deseja executar, segue as opçoes disponiveis:\n",
    "1. Adição [+]\n",
    "2. Substração [-]\n",
    "3. Multiplicação [x]\n",
    "4. Divisão [/]'''\n",
    "))\n",
    "print('\\n')\n",
    "number_1 = float(input('Função processada , por favor prossiga com a inserção do primer numero a ser calculado= '))\n",
    "number_2 = float(input('Por favor prossiga com a inserção do segundo numero a ser calculado= '))\n",
    "\n",
    "if funcao ==1:\n",
    "    calculo = number_1 + number_2\n",
    "\n",
    "elif funcao ==2:\n",
    "    calculo = number_1 - number_2\n",
    "\n",
    "elif funcao ==3:\n",
    "    calculo = number_1 * number_2\n",
    "\n",
    "else:\n",
    "    calculo = number_1 // number_2\n",
    "print('\\n')\n",
    "print(f'\\033[1mO resultado é= {calculo}\\033[0m')"
   ]
  },
  {
   "cell_type": "code",
   "execution_count": null,
   "id": "a603476d-f964-404b-872b-cc942bf03db0",
   "metadata": {},
   "outputs": [],
   "source": []
  }
 ],
 "metadata": {
  "kernelspec": {
   "display_name": "Python 3 (ipykernel)",
   "language": "python",
   "name": "python3"
  },
  "language_info": {
   "codemirror_mode": {
    "name": "ipython",
    "version": 3
   },
   "file_extension": ".py",
   "mimetype": "text/x-python",
   "name": "python",
   "nbconvert_exporter": "python",
   "pygments_lexer": "ipython3",
   "version": "3.12.4"
  }
 },
 "nbformat": 4,
 "nbformat_minor": 5
}
